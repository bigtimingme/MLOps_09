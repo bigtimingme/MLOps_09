{
 "cells": [
  {
   "cell_type": "code",
   "execution_count": 203,
   "metadata": {},
   "outputs": [],
   "source": [
    "# n.1    Importamos librerias pertinentes\n",
    "\n",
    "import pandas as pd\n",
    "from sklearn.metrics.pairwise import cosine_similarity\n",
    "from sklearn.feature_extraction.text import CountVectorizer"
   ]
  },
  {
   "cell_type": "code",
   "execution_count": 204,
   "metadata": {},
   "outputs": [],
   "source": [
    "# n.2    Importamos el csv total_df\n",
    "\n",
    "path = 'C:\\\\Users\\\\User\\Desktop\\\\Proyecto_MLOps_SoyHenry\\\\files\\\\total_df.csv'\n",
    "\n",
    "total_df = pd.read_csv(path)"
   ]
  },
  {
   "cell_type": "code",
   "execution_count": 205,
   "metadata": {},
   "outputs": [],
   "source": [
    "# n.3     Creamos una columna llamada combined feat con la columna de title y listed_in para generar una matrix de similitud\n",
    "#         entre las peliculas\n",
    "\n",
    "def combine_features(data):\n",
    "    features = []\n",
    "    for i in range(0,total_df.shape[0]):\n",
    "        features.append(data['title'][i] + ' ' +data['listed_in'][i])\n",
    "    \n",
    "    return features\n",
    "\n",
    "total_df['combined_feat'] = combine_features(total_df)"
   ]
  },
  {
   "cell_type": "code",
   "execution_count": 207,
   "metadata": {},
   "outputs": [],
   "source": [
    "# n.4      Usamos CountVectorizer de scikit-learn para crear vectores de las strings de la columna combined feat\n",
    "#          para contar cuantas veces se repiten ciertas palabras.\n",
    "\n",
    "cm = CountVectorizer().fit_transform(total_df['combined_feat'])"
   ]
  },
  {
   "cell_type": "code",
   "execution_count": 208,
   "metadata": {},
   "outputs": [],
   "source": [
    "# n.5         Creamos una matrix de similitud entre las peliculas a partir del Count Vectorizer del paso anterior.\n",
    "\n",
    "cs = cosine_similarity(cm)"
   ]
  },
  {
   "cell_type": "code",
   "execution_count": 209,
   "metadata": {},
   "outputs": [],
   "source": [
    "# n.6         Creamos una funcion en la que insertamos el nombre de la peliculas y nos devuelve las 5 peliculas más recomendadas\n",
    "#             en orden descendente.\n",
    "\n",
    "def recommender_system(movie):\n",
    "    movie_id = total_df[total_df['title']==movie].iloc[0][0]\n",
    "    scores  = list(enumerate(cs[movie_id]))\n",
    "    sorted_scores = sorted(scores,key = lambda x:x[1],reverse=True)\n",
    "    return [total_df.iloc[i[0]]['title'] for i in sorted_scores[1:6]]"
   ]
  },
  {
   "cell_type": "code",
   "execution_count": 223,
   "metadata": {},
   "outputs": [
    {
     "data": {
      "text/plain": [
       "['beethoven', 'charming', 'leap!', 'rango', 'paranorman']"
      ]
     },
     "execution_count": 223,
     "metadata": {},
     "output_type": "execute_result"
    }
   ],
   "source": [
    "# Testeamos el sistema\n",
    "\n",
    "recommender_system('zoom')"
   ]
  },
  {
   "cell_type": "code",
   "execution_count": 210,
   "metadata": {},
   "outputs": [],
   "source": [
    "# Eliminamos la columna combined feat.\n",
    "\n",
    "total_df.drop('combined_feat',axis=1,inplace=True)"
   ]
  },
  {
   "cell_type": "code",
   "execution_count": 211,
   "metadata": {},
   "outputs": [],
   "source": [
    "# n.7       Aplicamos la funcion recommender_system a todo el DataFrame para poder insertar las recomendaciones\n",
    "#           en el mismo DataFrame de las consultas y gastar menos memoria. \n",
    "\n",
    "total_df['recommender'] = total_df['title'].apply(recommender_system)"
   ]
  },
  {
   "cell_type": "code",
   "execution_count": 214,
   "metadata": {},
   "outputs": [],
   "source": [
    "# n.9       Convertimos el DataFrame en un archivo csv para la creacion de la API.\n",
    "\n",
    "df_fastapi = total_df.to_csv('df_fastapi.csv')"
   ]
  },
  {
   "cell_type": "code",
   "execution_count": null,
   "metadata": {},
   "outputs": [],
   "source": []
  }
 ],
 "metadata": {
  "kernelspec": {
   "display_name": "Python 3",
   "language": "python",
   "name": "python3"
  },
  "language_info": {
   "codemirror_mode": {
    "name": "ipython",
    "version": 3
   },
   "file_extension": ".py",
   "mimetype": "text/x-python",
   "name": "python",
   "nbconvert_exporter": "python",
   "pygments_lexer": "ipython3",
   "version": "3.10.11"
  },
  "orig_nbformat": 4
 },
 "nbformat": 4,
 "nbformat_minor": 2
}
