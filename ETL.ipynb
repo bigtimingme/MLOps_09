{
 "cells": [
  {
   "cell_type": "code",
   "execution_count": 1,
   "metadata": {},
   "outputs": [],
   "source": [
    "# Importamos librerías\n",
    "\n",
    "import pandas as pd\n",
    "import pandasql\n"
   ]
  },
  {
   "cell_type": "code",
   "execution_count": 3,
   "metadata": {},
   "outputs": [],
   "source": [
    "# Importar los csv de Amazon, Disney, Hulu y Netflix\n",
    "\n",
    "amazon_df = pd.read_csv('files/amazon_prime_titles.csv')\n",
    "disney_df = pd.read_csv('files/disney_plus_titles.csv')\n",
    "hulu_df = pd.read_csv('files/hulu_titles.csv')\n",
    "netflix_df = pd.read_csv('files/netflix_titles.csv')"
   ]
  },
  {
   "cell_type": "code",
   "execution_count": 4,
   "metadata": {},
   "outputs": [],
   "source": [
    "# modificar los Id\n",
    "\n",
    "amazon_df.insert(0,'id','a'+ amazon_df['show_id'])\n",
    "disney_df.insert(0,'id','d'+ disney_df['show_id'])\n",
    "hulu_df.insert(0,'id','h'+ hulu_df['show_id'])\n",
    "netflix_df.insert(0,'id','n'+ netflix_df['show_id'])"
   ]
  },
  {
   "cell_type": "code",
   "execution_count": 5,
   "metadata": {},
   "outputs": [],
   "source": [
    "# reemplazar valores nulos de rating\n",
    "\n",
    "amazon_df['rating'].fillna('g',inplace=True)\n",
    "disney_df['rating'].fillna('g',inplace=True)\n",
    "hulu_df['rating'].fillna('g',inplace=True)\n",
    "netflix_df['rating'].fillna('g',inplace=True)"
   ]
  },
  {
   "cell_type": "code",
   "execution_count": 6,
   "metadata": {},
   "outputs": [
    {
     "data": {
      "text/plain": [
       "array(['g', '13+', 'ALL', '18+', 'R', 'TV-Y', 'TV-Y7', 'NR', '16+',\n",
       "       'TV-PG', '7+', 'TV-14', 'TV-NR', 'TV-G', 'PG-13', 'TV-MA', 'G',\n",
       "       'PG', 'NC-17', 'UNRATED', '16', 'AGES_16_', 'AGES_18_', 'ALL_AGES',\n",
       "       'NOT_RATE'], dtype=object)"
      ]
     },
     "execution_count": 6,
     "metadata": {},
     "output_type": "execute_result"
    }
   ],
   "source": [
    "# reemplazamos valores nulos de rating\n",
    "\n",
    "amazon_df['rating'].unique()"
   ]
  },
  {
   "cell_type": "code",
   "execution_count": 7,
   "metadata": {},
   "outputs": [],
   "source": [
    "# reemplazamos valores nulos de rating\n",
    "\n",
    "def change_rate_amazon(a):\n",
    "    if a in ('NOT_RATE','UNRATED'):\n",
    "        return 'g'\n",
    "    else:\n",
    "        return a"
   ]
  },
  {
   "cell_type": "code",
   "execution_count": 8,
   "metadata": {},
   "outputs": [],
   "source": [
    "# reemplazamos valores nulos de rating\n",
    "\n",
    "amazon_df['rating'] = amazon_df['rating'].apply(change_rate_amazon)"
   ]
  },
  {
   "cell_type": "code",
   "execution_count": 9,
   "metadata": {},
   "outputs": [
    {
     "data": {
      "text/plain": [
       "array(['TV-G', 'PG', 'TV-PG', 'g', 'PG-13', 'TV-14', 'G', 'TV-Y7', 'TV-Y',\n",
       "       'TV-Y7-FV'], dtype=object)"
      ]
     },
     "execution_count": 9,
     "metadata": {},
     "output_type": "execute_result"
    }
   ],
   "source": [
    "disney_df['rating'].unique()"
   ]
  },
  {
   "cell_type": "code",
   "execution_count": 10,
   "metadata": {},
   "outputs": [
    {
     "data": {
      "text/plain": [
       "array(['TV-MA', 'g', 'PG-13', 'R', 'TV-14', 'PG', 'TV-PG', 'NOT RATED',\n",
       "       'G', 'TV-G', '2 Seasons', 'TV-Y', '93 min', '4 Seasons', 'TV-Y7',\n",
       "       '136 min', '91 min', '85 min', '98 min', '89 min', '94 min',\n",
       "       '86 min', '3 Seasons', '121 min', '88 min', '101 min', '1 Season',\n",
       "       '83 min', '100 min', '95 min', '92 min', '96 min', '109 min',\n",
       "       '99 min', '75 min', '87 min', '67 min', '104 min', '107 min',\n",
       "       '84 min', '103 min', '105 min', '119 min', '114 min', '82 min',\n",
       "       '90 min', '130 min', '110 min', '80 min', '6 Seasons', '97 min',\n",
       "       '111 min', '81 min', '49 min', '45 min', '41 min', '73 min',\n",
       "       '40 min', '36 min', '39 min', '34 min', '47 min', '65 min',\n",
       "       '37 min', '78 min', '102 min', '129 min', '115 min', '112 min',\n",
       "       'NR', '61 min', '106 min', '76 min', '77 min', '79 min', '157 min',\n",
       "       '28 min', '64 min', '7 min', '5 min', '6 min', '127 min',\n",
       "       '142 min', '108 min', '57 min', '118 min', '116 min', '12 Seasons',\n",
       "       '71 min'], dtype=object)"
      ]
     },
     "execution_count": 10,
     "metadata": {},
     "output_type": "execute_result"
    }
   ],
   "source": [
    "hulu_df['rating'].unique()"
   ]
  },
  {
   "cell_type": "code",
   "execution_count": 11,
   "metadata": {},
   "outputs": [],
   "source": [
    "rate_list = ['TV-MA','g','PG-13','R','TV-14','PG','TV-PG','G','TV-G','TV-Y']"
   ]
  },
  {
   "cell_type": "code",
   "execution_count": 12,
   "metadata": {},
   "outputs": [],
   "source": [
    "# reemplazamos valores nulos de rating\n",
    "\n",
    "def change_rate_hulu(a):\n",
    "    if a not in rate_list:\n",
    "        return 'g'\n",
    "    else:\n",
    "        return a"
   ]
  },
  {
   "cell_type": "code",
   "execution_count": 13,
   "metadata": {},
   "outputs": [],
   "source": [
    "# reemplazamos valores nulos de rating\n",
    "\n",
    "hulu_df['rating'] = hulu_df['rating'].apply(change_rate_hulu)"
   ]
  },
  {
   "cell_type": "code",
   "execution_count": 14,
   "metadata": {},
   "outputs": [],
   "source": [
    "rate_list_netflix = ['PG-13', 'TV-MA', 'PG', 'TV-14', 'TV-PG', 'TV-Y', 'TV-Y7', 'R',\n",
    "       'TV-G', 'G', 'NC-17', 'NR', 'g',\n",
    "       'TV-Y7-FV', 'UR']"
   ]
  },
  {
   "cell_type": "code",
   "execution_count": 15,
   "metadata": {},
   "outputs": [],
   "source": [
    "# reemplazamos valores nulos de rating\n",
    "\n",
    "def change_rate_net(a):\n",
    "    if a not in rate_list_netflix:\n",
    "        return 'g'\n",
    "    else:\n",
    "        return a"
   ]
  },
  {
   "cell_type": "code",
   "execution_count": 16,
   "metadata": {},
   "outputs": [],
   "source": [
    "# reemplazamos valores nulos de rating\n",
    "\n",
    "netflix_df['rating'] = netflix_df['rating'].apply(change_rate_net)"
   ]
  },
  {
   "cell_type": "code",
   "execution_count": 17,
   "metadata": {},
   "outputs": [],
   "source": [
    "# convertir la columna de date added a datetime\n",
    "\n",
    "amazon_df['date_added'] = pd.to_datetime(amazon_df['date_added'],format=\"%B %d, %Y\")\n",
    "disney_df['date_added'] = pd.to_datetime(disney_df['date_added'],format=\"%B %d, %Y\")\n",
    "hulu_df['date_added'] = pd.to_datetime(hulu_df['date_added'],format=\"%B %d, %Y\")"
   ]
  },
  {
   "cell_type": "code",
   "execution_count": 18,
   "metadata": {},
   "outputs": [],
   "source": [
    "# limpiar el date added de Netflix y convertir la columna a datetime\n",
    "\n",
    "def clear(a):\n",
    "    if type(a) == float:\n",
    "        return str(a)\n",
    "    else:\n",
    "        if a.startswith(' '):\n",
    "            return str(a[1:])\n",
    "        else:\n",
    "            return str(a)\n",
    "\n",
    "netflix_df['date_added'] = netflix_df['date_added'].apply(clear)\n",
    "netflix_df['date_added'] = pd.to_datetime(netflix_df['date_added'],format=\"%B %d, %Y\")"
   ]
  },
  {
   "cell_type": "code",
   "execution_count": 19,
   "metadata": {},
   "outputs": [],
   "source": [
    "# Unimos los dataframes para hacer achicar el código\n",
    "\n",
    "plataformas_total_df = pd.concat([amazon_df,disney_df,hulu_df,netflix_df])\n"
   ]
  },
  {
   "cell_type": "code",
   "execution_count": 20,
   "metadata": {},
   "outputs": [],
   "source": [
    "# Ponemos todos los textos en minúscula\n",
    "\n",
    "plataformas_total_df['type'] = plataformas_total_df['type'].str.lower()\n",
    "plataformas_total_df['title'] = plataformas_total_df['title'].str.lower()\n",
    "plataformas_total_df['director'] = plataformas_total_df['director'].str.lower()\n",
    "plataformas_total_df['cast'] = plataformas_total_df['cast'].str.lower()\n",
    "plataformas_total_df['country'] = plataformas_total_df['country'].str.lower()\n",
    "plataformas_total_df['rating'] = plataformas_total_df['rating'].str.lower()\n",
    "plataformas_total_df['duration'] = plataformas_total_df['duration'].str.lower()\n",
    "plataformas_total_df['listed_in'] = plataformas_total_df['listed_in'].str.lower()\n",
    "plataformas_total_df['description'] = plataformas_total_df['description'].str.lower()"
   ]
  },
  {
   "cell_type": "code",
   "execution_count": 21,
   "metadata": {},
   "outputs": [],
   "source": [
    "# transformamos la columna duration en dos columnas: duration int(cant. de tiempo) y duration type(minutos o temporada)\n",
    "# borramos la columna show_id\n",
    "plataformas_total_df['duration_int'] = plataformas_total_df['duration'].str.split(' ').str[0]\n",
    "plataformas_total_df['duration_type'] = plataformas_total_df['duration'].str.split(' ').str[1]\n",
    "plataformas_total_df['duration_int'] = plataformas_total_df['duration_int'].astype('Int64')\n",
    "plataformas_total_df['duration_type'] = plataformas_total_df['duration_type'].str.replace('seasons','season')\n",
    "plataformas_total_df.drop('duration',axis=1,inplace=True)\n",
    "plataformas_total_df.drop('show_id',axis=1,inplace=True)\n"
   ]
  },
  {
   "cell_type": "code",
   "execution_count": 22,
   "metadata": {},
   "outputs": [],
   "source": [
    "# Nombramos las distintas plataformas para las consultas.\n",
    "\n",
    "def nombrar_plataformas(a):\n",
    "    if a.startswith('a'):\n",
    "        return 'amazon'\n",
    "    elif a.startswith('d'):\n",
    "        return 'disney'\n",
    "    elif a.startswith('h'):\n",
    "        return 'hulu'\n",
    "    elif a.startswith('n'):\n",
    "        return 'netflix'\n",
    "    else:\n",
    "        return 'no clue'\n",
    "\n",
    "plataformas_total_df['platform'] = plataformas_total_df['id'].apply(nombrar_plataformas)\n"
   ]
  },
  {
   "cell_type": "code",
   "execution_count": 24,
   "metadata": {},
   "outputs": [],
   "source": [
    "# Pasamos a la parte de la carpeta de ratings\n",
    "\n",
    "rating_1 = pd.read_csv('files/ratings/1.csv')\n",
    "rating_2 = pd.read_csv('files/ratings/2.csv')\n",
    "rating_3 = pd.read_csv('files/ratings/3.csv')\n",
    "rating_4 = pd.read_csv('files/ratings/4.csv')\n",
    "rating_5 = pd.read_csv('files/ratings/5.csv')\n",
    "rating_6 = pd.read_csv('files/ratings/6.csv')\n",
    "rating_7 = pd.read_csv('files/ratings/7.csv')\n",
    "rating_8 = pd.read_csv('files/ratings/8.csv')\n"
   ]
  },
  {
   "cell_type": "code",
   "execution_count": 25,
   "metadata": {},
   "outputs": [],
   "source": [
    "# Unimos los distintos dataframes de rating.\n",
    "\n",
    "rating_total = pd.concat([rating_1,rating_2,rating_3,rating_4,rating_5,rating_6,rating_7,rating_8])"
   ]
  },
  {
   "cell_type": "code",
   "execution_count": 26,
   "metadata": {},
   "outputs": [],
   "source": [
    "# Convertimos las fechas de las reseñas en AAAA-mm-dd format.\n",
    "rating_total['date_of_review'] = pd.to_datetime(rating_total['timestamp'],unit='s')"
   ]
  },
  {
   "cell_type": "code",
   "execution_count": 27,
   "metadata": {},
   "outputs": [],
   "source": [
    "# modificamos los nombres de algunas columnas para mejor lectura\n",
    "\n",
    "rating_total['user_rating'] = rating_total['rating']\n",
    "rating_total.drop('rating',axis=1,inplace=True)\n"
   ]
  },
  {
   "cell_type": "code",
   "execution_count": 28,
   "metadata": {},
   "outputs": [],
   "source": [
    "# Importamos pandasql y hacemos queries para sacar promedio de las reseñas de usuarios\n",
    "# y sumarlos al df de las plataformas de streaming.\n",
    "\n",
    "query1 = 'SELECT movieId,AVG(user_rating) FROM rating_total GROUP BY movieId;'\n",
    "ratings_avg = pandasql.sqldf(query1, locals())\n",
    "\n",
    "query2 = 'SELECT * FROM plataformas_total_df JOIN ratings_avg ON (plataformas_total_df.id = ratings_avg.movieId);'\n",
    "stream_mas_ratings_avg = pandasql.sqldf(query2, locals())\n",
    "\n",
    "# Ponemos el nombre scored a los promedios de las reseñas y borramos las columnas duplicadas\n",
    "\n",
    "stream_mas_ratings_avg['scored'] = stream_mas_ratings_avg['AVG(user_rating)']\n",
    "stream_mas_ratings_avg.drop('AVG(user_rating)',axis=1,inplace=True)\n",
    "stream_mas_ratings_avg['duration_int'] = stream_mas_ratings_avg['duration_int'].astype('Int64')\n",
    "sps = pd.DataFrame(stream_mas_ratings_avg)\n",
    "# sps.drop('show_id',axis=1,inplace=True)"
   ]
  },
  {
   "cell_type": "code",
   "execution_count": 29,
   "metadata": {},
   "outputs": [],
   "source": [
    "# Redondeamos las reseñas de los usuarios para las consultas de la API\n",
    "def rounded(a):\n",
    "    return round(a,1)"
   ]
  },
  {
   "cell_type": "code",
   "execution_count": 30,
   "metadata": {},
   "outputs": [],
   "source": [
    "sps['scored']=sps['scored'].apply(rounded)"
   ]
  },
  {
   "cell_type": "code",
   "execution_count": 30,
   "metadata": {},
   "outputs": [],
   "source": [
    "# Hacemos un df llamado total_df para las consultas con todas las plataformas y los promedios de las reseñas de los usuarios\n",
    "total_df = sps.to_csv('total_df.csv')"
   ]
  },
  {
   "cell_type": "code",
   "execution_count": 34,
   "metadata": {},
   "outputs": [],
   "source": [
    "# Armamos un dataframe con el promedio de user_rating por cada título y la cantidad de críticas por película\n",
    "# para usar en el EDA.\n",
    "\n",
    "average =pd.DataFrame(rating_total.groupby(['movieId']).mean(numeric_only=True)['user_rating'])"
   ]
  },
  {
   "cell_type": "code",
   "execution_count": 35,
   "metadata": {},
   "outputs": [],
   "source": [
    "average['mean_rating'] = average['user_rating']"
   ]
  },
  {
   "cell_type": "code",
   "execution_count": 36,
   "metadata": {},
   "outputs": [],
   "source": [
    "average.drop('user_rating',axis=1,inplace=True)"
   ]
  },
  {
   "cell_type": "code",
   "execution_count": 37,
   "metadata": {},
   "outputs": [],
   "source": [
    "ratings_count = rating_total.groupby(['movieId']).count()['user_rating']"
   ]
  },
  {
   "cell_type": "code",
   "execution_count": 38,
   "metadata": {},
   "outputs": [],
   "source": [
    "ratings_by_quantity = pd.merge(average,ratings_count,left_on=average.index,right_on=ratings_count.index)"
   ]
  },
  {
   "cell_type": "code",
   "execution_count": 39,
   "metadata": {},
   "outputs": [
    {
     "data": {
      "text/html": [
       "<div>\n",
       "<style scoped>\n",
       "    .dataframe tbody tr th:only-of-type {\n",
       "        vertical-align: middle;\n",
       "    }\n",
       "\n",
       "    .dataframe tbody tr th {\n",
       "        vertical-align: top;\n",
       "    }\n",
       "\n",
       "    .dataframe thead th {\n",
       "        text-align: right;\n",
       "    }\n",
       "</style>\n",
       "<table border=\"1\" class=\"dataframe\">\n",
       "  <thead>\n",
       "    <tr style=\"text-align: right;\">\n",
       "      <th></th>\n",
       "      <th>mean_rating</th>\n",
       "      <th>user_rating</th>\n",
       "    </tr>\n",
       "    <tr>\n",
       "      <th>key_0</th>\n",
       "      <th></th>\n",
       "      <th></th>\n",
       "    </tr>\n",
       "  </thead>\n",
       "  <tbody>\n",
       "    <tr>\n",
       "      <th>as1</th>\n",
       "      <td>3.467131</td>\n",
       "      <td>502</td>\n",
       "    </tr>\n",
       "    <tr>\n",
       "      <th>as10</th>\n",
       "      <td>3.439571</td>\n",
       "      <td>513</td>\n",
       "    </tr>\n",
       "    <tr>\n",
       "      <th>as100</th>\n",
       "      <td>3.609302</td>\n",
       "      <td>430</td>\n",
       "    </tr>\n",
       "    <tr>\n",
       "      <th>as1000</th>\n",
       "      <td>3.556701</td>\n",
       "      <td>485</td>\n",
       "    </tr>\n",
       "    <tr>\n",
       "      <th>as1001</th>\n",
       "      <td>3.585288</td>\n",
       "      <td>469</td>\n",
       "    </tr>\n",
       "    <tr>\n",
       "      <th>...</th>\n",
       "      <td>...</td>\n",
       "      <td>...</td>\n",
       "    </tr>\n",
       "    <tr>\n",
       "      <th>ns995</th>\n",
       "      <td>3.515625</td>\n",
       "      <td>448</td>\n",
       "    </tr>\n",
       "    <tr>\n",
       "      <th>ns996</th>\n",
       "      <td>3.626518</td>\n",
       "      <td>494</td>\n",
       "    </tr>\n",
       "    <tr>\n",
       "      <th>ns997</th>\n",
       "      <td>3.530526</td>\n",
       "      <td>475</td>\n",
       "    </tr>\n",
       "    <tr>\n",
       "      <th>ns998</th>\n",
       "      <td>3.582645</td>\n",
       "      <td>484</td>\n",
       "    </tr>\n",
       "    <tr>\n",
       "      <th>ns999</th>\n",
       "      <td>3.494781</td>\n",
       "      <td>479</td>\n",
       "    </tr>\n",
       "  </tbody>\n",
       "</table>\n",
       "<p>22998 rows × 2 columns</p>\n",
       "</div>"
      ],
      "text/plain": [
       "        mean_rating  user_rating\n",
       "key_0                           \n",
       "as1        3.467131          502\n",
       "as10       3.439571          513\n",
       "as100      3.609302          430\n",
       "as1000     3.556701          485\n",
       "as1001     3.585288          469\n",
       "...             ...          ...\n",
       "ns995      3.515625          448\n",
       "ns996      3.626518          494\n",
       "ns997      3.530526          475\n",
       "ns998      3.582645          484\n",
       "ns999      3.494781          479\n",
       "\n",
       "[22998 rows x 2 columns]"
      ]
     },
     "execution_count": 39,
     "metadata": {},
     "output_type": "execute_result"
    }
   ],
   "source": [
    "ratings_by_quantity.set_index('key_0')"
   ]
  },
  {
   "cell_type": "code",
   "execution_count": 41,
   "metadata": {},
   "outputs": [],
   "source": [
    "\n",
    "ratings_by_quantity.to_csv('ratings_by_quantity.csv')"
   ]
  }
 ],
 "metadata": {
  "kernelspec": {
   "display_name": "Python 3",
   "language": "python",
   "name": "python3"
  },
  "language_info": {
   "codemirror_mode": {
    "name": "ipython",
    "version": 3
   },
   "file_extension": ".py",
   "mimetype": "text/x-python",
   "name": "python",
   "nbconvert_exporter": "python",
   "pygments_lexer": "ipython3",
   "version": "3.10.11"
  },
  "orig_nbformat": 4,
  "vscode": {
   "interpreter": {
    "hash": "3b7e9cb8e453d6cda0fe8c8dd13f891a1f09162f0e7c66ffeae7751a7aecf00d"
   }
  }
 },
 "nbformat": 4,
 "nbformat_minor": 2
}
